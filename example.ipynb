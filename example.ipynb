{
 "cells": [
  {
   "cell_type": "code",
   "execution_count": 1,
   "metadata": {
    "ExecuteTime": {
     "end_time": "2019-10-21T15:37:01.618838Z",
     "start_time": "2019-10-21T15:37:00.899458Z"
    }
   },
   "outputs": [],
   "source": [
    "import sys\n",
    "from os import listdir, path, mkdir\n",
    "import time\n",
    "\n",
    "import pandas as pd\n",
    "import numpy as np\n",
    "import networkx as nx\n",
    "\n",
    "\n",
    "from remp.util import prepare_cache_folder, matching_quality, CacheDecoreator, suffix\n",
    "from remp.matching import candidate_matching, initial_matching, pruned_matching, prior_probabilities\n",
    "from remp.property_alignment import attribute_alignment\n",
    "from remp.learning import RempMatcher\n",
    "from remp import rdfutil"
   ]
  },
  {
   "cell_type": "markdown",
   "metadata": {},
   "source": [
    "# Load Triples"
   ]
  },
  {
   "cell_type": "code",
   "execution_count": 2,
   "metadata": {
    "ExecuteTime": {
     "end_time": "2019-10-21T15:37:02.255066Z",
     "start_time": "2019-10-21T15:37:01.620898Z"
    }
   },
   "outputs": [],
   "source": [
    "# the cache directory to save temp data\n",
    "cache_base_dir = '/mnt/hdd/Cache'\n",
    "\n",
    "class IIMB:\n",
    "    def __init__(self, task_id=1):\n",
    "        self.label = ('iimbtbox:name', 'iimbtbox:name') # the label attributes\n",
    "        loader = rdfutil.TripleLoader()\n",
    "        loader.load('/mnt/hdd/Datasets/iimb/iimb1.owl')\n",
    "        self.relations_1 = pd.DataFrame(loader.relations, columns=['s', 'r', 'o'])\n",
    "        self.attributes_1 = pd.DataFrame(loader.attributes, columns=['s', 'a', 'v'])\n",
    "\n",
    "        loader = rdfutil.TripleLoader()\n",
    "        loader.load('/mnt/hdd/Datasets/iimb/iimb2.owl')\n",
    "        self.relations_2 = pd.DataFrame(loader.relations, columns=['s', 'r', 'o'])\n",
    "        self.attributes_2 = pd.DataFrame(loader.attributes, columns=['s', 'a', 'v'])\n",
    "dataset = IIMB()"
   ]
  },
  {
   "cell_type": "markdown",
   "metadata": {
    "ExecuteTime": {
     "end_time": "2019-10-20T12:34:40.374330Z",
     "start_time": "2019-10-20T12:34:40.371927Z"
    }
   },
   "source": [
    "# Construct ER Graph"
   ]
  },
  {
   "cell_type": "code",
   "execution_count": 3,
   "metadata": {
    "ExecuteTime": {
     "end_time": "2019-10-21T15:37:04.567333Z",
     "start_time": "2019-10-21T15:37:02.257050Z"
    }
   },
   "outputs": [],
   "source": [
    "M_in = initial_matching(dataset)\n",
    "M_c = candidate_matching(dataset)\n",
    "\n",
    "# attribute alignment when required\n",
    "M_at = None\n",
    "if len(set(dataset.attributes_1['a']) ^ set(dataset.attributes_2['a'])) == 0:\n",
    "    M_at = attribute_alignment(dataset.attributes_1, dataset.attributes_2, M_in)\n",
    "    \n",
    "M_pruned = pruned_matching(dataset, M_c, M_at, k=4)\n",
    "\n",
    "# add probabilities to the er graph\n",
    "from remp.ergraph import construct_er_graph\n",
    "prior = prior_probabilities(dataset, M_pruned).reset_index()\n",
    "ergraph = construct_er_graph(dataset.relations_1, dataset.relations_2, M_in, M_pruned, prior)"
   ]
  },
  {
   "cell_type": "markdown",
   "metadata": {
    "ExecuteTime": {
     "end_time": "2019-10-21T15:34:46.624746Z",
     "start_time": "2019-10-21T15:34:46.138354Z"
    }
   },
   "source": [
    "# Crowdsourcing"
   ]
  },
  {
   "cell_type": "code",
   "execution_count": 4,
   "metadata": {
    "ExecuteTime": {
     "end_time": "2019-10-21T15:37:04.603835Z",
     "start_time": "2019-10-21T15:37:04.569872Z"
    }
   },
   "outputs": [
    {
     "name": "stdout",
     "output_type": "stream",
     "text": [
      "['iimb:sealand\\tiimb:item1395082569838752659', 'iimb:singapore\\tiimb:item1719555844618676288', 'iimb:singapore\\tiimb:item1719555844618676288', 'iimb:singapore\\tiimb:item1719555844618676288', 'iimb:singapore\\tiimb:item1719555844618676288', 'iimb:singapore\\tiimb:item1719555844618676288', 'iimb:singapore\\tiimb:item1719555844618676288', 'iimb:singapore\\tiimb:item1719555844618676288', 'iimb:singapore\\tiimb:item1719555844618676288', 'iimb:singapore\\tiimb:item1719555844618676288']\n"
     ]
    }
   ],
   "source": [
    "matcher = RempMatcher(dataset, ergraph, prior)\n",
    "# multiple questions selection\n",
    "questions = matcher.next_questions()\n",
    "print(questions)"
   ]
  },
  {
   "cell_type": "code",
   "execution_count": 5,
   "metadata": {
    "ExecuteTime": {
     "end_time": "2019-10-21T15:37:04.746204Z",
     "start_time": "2019-10-21T15:37:04.605403Z"
    }
   },
   "outputs": [],
   "source": [
    "# update labels\n",
    "matcher.update_model(['iimb:sealand\\tiimb:item1395082569838752659', 'iimb:singapore\\tiimb:item1719555844618676288'], [0.95, 0.1])"
   ]
  }
 ],
 "metadata": {
  "kernelspec": {
   "display_name": "Python 3",
   "language": "python",
   "name": "python3"
  },
  "language_info": {
   "codemirror_mode": {
    "name": "ipython",
    "version": 3
   },
   "file_extension": ".py",
   "mimetype": "text/x-python",
   "name": "python",
   "nbconvert_exporter": "python",
   "pygments_lexer": "ipython3",
   "version": "3.6.9"
  }
 },
 "nbformat": 4,
 "nbformat_minor": 2
}
